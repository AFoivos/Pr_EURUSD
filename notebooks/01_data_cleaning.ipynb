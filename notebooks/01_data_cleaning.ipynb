{
 "cells": [
  {
   "cell_type": "code",
   "execution_count": 19,
   "id": "f3a8b523",
   "metadata": {},
   "outputs": [],
   "source": [
    "import pandas as pd\n",
    "\n",
    "df = pd.read_csv(\"../data/EURUSD_H4_202401020000_202506251600.csv\", sep=\"\\t\")"
   ]
  },
  {
   "cell_type": "code",
   "execution_count": 20,
   "id": "525fe8b5",
   "metadata": {},
   "outputs": [
    {
     "data": {
      "application/vnd.microsoft.datawrangler.viewer.v0+json": {
       "columns": [
        {
         "name": "index",
         "rawType": "int64",
         "type": "integer"
        },
        {
         "name": "<DATE>",
         "rawType": "object",
         "type": "string"
        },
        {
         "name": "<TIME>",
         "rawType": "object",
         "type": "string"
        },
        {
         "name": "<OPEN>",
         "rawType": "float64",
         "type": "float"
        },
        {
         "name": "<HIGH>",
         "rawType": "float64",
         "type": "float"
        },
        {
         "name": "<LOW>",
         "rawType": "float64",
         "type": "float"
        },
        {
         "name": "<CLOSE>",
         "rawType": "float64",
         "type": "float"
        },
        {
         "name": "<TICKVOL>",
         "rawType": "int64",
         "type": "integer"
        },
        {
         "name": "<VOL>",
         "rawType": "int64",
         "type": "integer"
        },
        {
         "name": "<SPREAD>",
         "rawType": "int64",
         "type": "integer"
        }
       ],
       "ref": "d9ede8cb-c695-4c43-9ecb-eba8c4864075",
       "rows": [
        [
         "0",
         "2024.01.02",
         "00:00:00",
         "1.10424",
         "1.10443",
         "1.10341",
         "1.10349",
         "4438",
         "0",
         "2"
        ],
        [
         "1",
         "2024.01.02",
         "04:00:00",
         "1.1035",
         "1.1036",
         "1.10165",
         "1.10334",
         "5889",
         "0",
         "2"
        ],
        [
         "2",
         "2024.01.02",
         "08:00:00",
         "1.10336",
         "1.10388",
         "1.10106",
         "1.10152",
         "13826",
         "0",
         "2"
        ],
        [
         "3",
         "2024.01.02",
         "12:00:00",
         "1.10151",
         "1.10171",
         "1.09494",
         "1.09527",
         "18275",
         "0",
         "2"
        ],
        [
         "4",
         "2024.01.02",
         "16:00:00",
         "1.09527",
         "1.09683",
         "1.09408",
         "1.09506",
         "22154",
         "0",
         "2"
        ]
       ],
       "shape": {
        "columns": 9,
        "rows": 5
       }
      },
      "text/html": [
       "<div>\n",
       "<style scoped>\n",
       "    .dataframe tbody tr th:only-of-type {\n",
       "        vertical-align: middle;\n",
       "    }\n",
       "\n",
       "    .dataframe tbody tr th {\n",
       "        vertical-align: top;\n",
       "    }\n",
       "\n",
       "    .dataframe thead th {\n",
       "        text-align: right;\n",
       "    }\n",
       "</style>\n",
       "<table border=\"1\" class=\"dataframe\">\n",
       "  <thead>\n",
       "    <tr style=\"text-align: right;\">\n",
       "      <th></th>\n",
       "      <th>&lt;DATE&gt;</th>\n",
       "      <th>&lt;TIME&gt;</th>\n",
       "      <th>&lt;OPEN&gt;</th>\n",
       "      <th>&lt;HIGH&gt;</th>\n",
       "      <th>&lt;LOW&gt;</th>\n",
       "      <th>&lt;CLOSE&gt;</th>\n",
       "      <th>&lt;TICKVOL&gt;</th>\n",
       "      <th>&lt;VOL&gt;</th>\n",
       "      <th>&lt;SPREAD&gt;</th>\n",
       "    </tr>\n",
       "  </thead>\n",
       "  <tbody>\n",
       "    <tr>\n",
       "      <th>0</th>\n",
       "      <td>2024.01.02</td>\n",
       "      <td>00:00:00</td>\n",
       "      <td>1.10424</td>\n",
       "      <td>1.10443</td>\n",
       "      <td>1.10341</td>\n",
       "      <td>1.10349</td>\n",
       "      <td>4438</td>\n",
       "      <td>0</td>\n",
       "      <td>2</td>\n",
       "    </tr>\n",
       "    <tr>\n",
       "      <th>1</th>\n",
       "      <td>2024.01.02</td>\n",
       "      <td>04:00:00</td>\n",
       "      <td>1.10350</td>\n",
       "      <td>1.10360</td>\n",
       "      <td>1.10165</td>\n",
       "      <td>1.10334</td>\n",
       "      <td>5889</td>\n",
       "      <td>0</td>\n",
       "      <td>2</td>\n",
       "    </tr>\n",
       "    <tr>\n",
       "      <th>2</th>\n",
       "      <td>2024.01.02</td>\n",
       "      <td>08:00:00</td>\n",
       "      <td>1.10336</td>\n",
       "      <td>1.10388</td>\n",
       "      <td>1.10106</td>\n",
       "      <td>1.10152</td>\n",
       "      <td>13826</td>\n",
       "      <td>0</td>\n",
       "      <td>2</td>\n",
       "    </tr>\n",
       "    <tr>\n",
       "      <th>3</th>\n",
       "      <td>2024.01.02</td>\n",
       "      <td>12:00:00</td>\n",
       "      <td>1.10151</td>\n",
       "      <td>1.10171</td>\n",
       "      <td>1.09494</td>\n",
       "      <td>1.09527</td>\n",
       "      <td>18275</td>\n",
       "      <td>0</td>\n",
       "      <td>2</td>\n",
       "    </tr>\n",
       "    <tr>\n",
       "      <th>4</th>\n",
       "      <td>2024.01.02</td>\n",
       "      <td>16:00:00</td>\n",
       "      <td>1.09527</td>\n",
       "      <td>1.09683</td>\n",
       "      <td>1.09408</td>\n",
       "      <td>1.09506</td>\n",
       "      <td>22154</td>\n",
       "      <td>0</td>\n",
       "      <td>2</td>\n",
       "    </tr>\n",
       "  </tbody>\n",
       "</table>\n",
       "</div>"
      ],
      "text/plain": [
       "       <DATE>    <TIME>   <OPEN>   <HIGH>    <LOW>  <CLOSE>  <TICKVOL>  <VOL>  \\\n",
       "0  2024.01.02  00:00:00  1.10424  1.10443  1.10341  1.10349       4438      0   \n",
       "1  2024.01.02  04:00:00  1.10350  1.10360  1.10165  1.10334       5889      0   \n",
       "2  2024.01.02  08:00:00  1.10336  1.10388  1.10106  1.10152      13826      0   \n",
       "3  2024.01.02  12:00:00  1.10151  1.10171  1.09494  1.09527      18275      0   \n",
       "4  2024.01.02  16:00:00  1.09527  1.09683  1.09408  1.09506      22154      0   \n",
       "\n",
       "   <SPREAD>  \n",
       "0         2  \n",
       "1         2  \n",
       "2         2  \n",
       "3         2  \n",
       "4         2  "
      ]
     },
     "execution_count": 20,
     "metadata": {},
     "output_type": "execute_result"
    }
   ],
   "source": [
    "df.head()"
   ]
  },
  {
   "cell_type": "code",
   "execution_count": 21,
   "id": "72552499",
   "metadata": {},
   "outputs": [],
   "source": [
    "df[\"datetime\"] = pd.to_datetime(df[\"<DATE>\"] + \" \" + df[\"<TIME>\"])\n",
    "df.drop(columns=[\"<DATE>\", \"<TIME>\"], inplace=True)\n",
    "\n",
    "cols = [\"datetime\"] + [col for col in df.columns if col != \"datetime\"]\n",
    "df = df[cols]"
   ]
  },
  {
   "cell_type": "code",
   "execution_count": 22,
   "id": "bf7bc865",
   "metadata": {},
   "outputs": [
    {
     "data": {
      "application/vnd.microsoft.datawrangler.viewer.v0+json": {
       "columns": [
        {
         "name": "index",
         "rawType": "int64",
         "type": "integer"
        },
        {
         "name": "datetime",
         "rawType": "datetime64[ns]",
         "type": "datetime"
        },
        {
         "name": "<OPEN>",
         "rawType": "float64",
         "type": "float"
        },
        {
         "name": "<HIGH>",
         "rawType": "float64",
         "type": "float"
        },
        {
         "name": "<LOW>",
         "rawType": "float64",
         "type": "float"
        },
        {
         "name": "<CLOSE>",
         "rawType": "float64",
         "type": "float"
        },
        {
         "name": "<TICKVOL>",
         "rawType": "int64",
         "type": "integer"
        },
        {
         "name": "<VOL>",
         "rawType": "int64",
         "type": "integer"
        },
        {
         "name": "<SPREAD>",
         "rawType": "int64",
         "type": "integer"
        }
       ],
       "ref": "ae9b9982-1828-48cd-bfe4-a2709d757664",
       "rows": [
        [
         "0",
         "2024-01-02 00:00:00",
         "1.10424",
         "1.10443",
         "1.10341",
         "1.10349",
         "4438",
         "0",
         "2"
        ],
        [
         "1",
         "2024-01-02 04:00:00",
         "1.1035",
         "1.1036",
         "1.10165",
         "1.10334",
         "5889",
         "0",
         "2"
        ],
        [
         "2",
         "2024-01-02 08:00:00",
         "1.10336",
         "1.10388",
         "1.10106",
         "1.10152",
         "13826",
         "0",
         "2"
        ],
        [
         "3",
         "2024-01-02 12:00:00",
         "1.10151",
         "1.10171",
         "1.09494",
         "1.09527",
         "18275",
         "0",
         "2"
        ],
        [
         "4",
         "2024-01-02 16:00:00",
         "1.09527",
         "1.09683",
         "1.09408",
         "1.09506",
         "22154",
         "0",
         "2"
        ]
       ],
       "shape": {
        "columns": 8,
        "rows": 5
       }
      },
      "text/html": [
       "<div>\n",
       "<style scoped>\n",
       "    .dataframe tbody tr th:only-of-type {\n",
       "        vertical-align: middle;\n",
       "    }\n",
       "\n",
       "    .dataframe tbody tr th {\n",
       "        vertical-align: top;\n",
       "    }\n",
       "\n",
       "    .dataframe thead th {\n",
       "        text-align: right;\n",
       "    }\n",
       "</style>\n",
       "<table border=\"1\" class=\"dataframe\">\n",
       "  <thead>\n",
       "    <tr style=\"text-align: right;\">\n",
       "      <th></th>\n",
       "      <th>datetime</th>\n",
       "      <th>&lt;OPEN&gt;</th>\n",
       "      <th>&lt;HIGH&gt;</th>\n",
       "      <th>&lt;LOW&gt;</th>\n",
       "      <th>&lt;CLOSE&gt;</th>\n",
       "      <th>&lt;TICKVOL&gt;</th>\n",
       "      <th>&lt;VOL&gt;</th>\n",
       "      <th>&lt;SPREAD&gt;</th>\n",
       "    </tr>\n",
       "  </thead>\n",
       "  <tbody>\n",
       "    <tr>\n",
       "      <th>0</th>\n",
       "      <td>2024-01-02 00:00:00</td>\n",
       "      <td>1.10424</td>\n",
       "      <td>1.10443</td>\n",
       "      <td>1.10341</td>\n",
       "      <td>1.10349</td>\n",
       "      <td>4438</td>\n",
       "      <td>0</td>\n",
       "      <td>2</td>\n",
       "    </tr>\n",
       "    <tr>\n",
       "      <th>1</th>\n",
       "      <td>2024-01-02 04:00:00</td>\n",
       "      <td>1.10350</td>\n",
       "      <td>1.10360</td>\n",
       "      <td>1.10165</td>\n",
       "      <td>1.10334</td>\n",
       "      <td>5889</td>\n",
       "      <td>0</td>\n",
       "      <td>2</td>\n",
       "    </tr>\n",
       "    <tr>\n",
       "      <th>2</th>\n",
       "      <td>2024-01-02 08:00:00</td>\n",
       "      <td>1.10336</td>\n",
       "      <td>1.10388</td>\n",
       "      <td>1.10106</td>\n",
       "      <td>1.10152</td>\n",
       "      <td>13826</td>\n",
       "      <td>0</td>\n",
       "      <td>2</td>\n",
       "    </tr>\n",
       "    <tr>\n",
       "      <th>3</th>\n",
       "      <td>2024-01-02 12:00:00</td>\n",
       "      <td>1.10151</td>\n",
       "      <td>1.10171</td>\n",
       "      <td>1.09494</td>\n",
       "      <td>1.09527</td>\n",
       "      <td>18275</td>\n",
       "      <td>0</td>\n",
       "      <td>2</td>\n",
       "    </tr>\n",
       "    <tr>\n",
       "      <th>4</th>\n",
       "      <td>2024-01-02 16:00:00</td>\n",
       "      <td>1.09527</td>\n",
       "      <td>1.09683</td>\n",
       "      <td>1.09408</td>\n",
       "      <td>1.09506</td>\n",
       "      <td>22154</td>\n",
       "      <td>0</td>\n",
       "      <td>2</td>\n",
       "    </tr>\n",
       "  </tbody>\n",
       "</table>\n",
       "</div>"
      ],
      "text/plain": [
       "             datetime   <OPEN>   <HIGH>    <LOW>  <CLOSE>  <TICKVOL>  <VOL>  \\\n",
       "0 2024-01-02 00:00:00  1.10424  1.10443  1.10341  1.10349       4438      0   \n",
       "1 2024-01-02 04:00:00  1.10350  1.10360  1.10165  1.10334       5889      0   \n",
       "2 2024-01-02 08:00:00  1.10336  1.10388  1.10106  1.10152      13826      0   \n",
       "3 2024-01-02 12:00:00  1.10151  1.10171  1.09494  1.09527      18275      0   \n",
       "4 2024-01-02 16:00:00  1.09527  1.09683  1.09408  1.09506      22154      0   \n",
       "\n",
       "   <SPREAD>  \n",
       "0         2  \n",
       "1         2  \n",
       "2         2  \n",
       "3         2  \n",
       "4         2  "
      ]
     },
     "execution_count": 22,
     "metadata": {},
     "output_type": "execute_result"
    }
   ],
   "source": [
    "df.head()"
   ]
  },
  {
   "cell_type": "code",
   "execution_count": 23,
   "id": "4b3c6147",
   "metadata": {},
   "outputs": [
    {
     "name": "stdout",
     "output_type": "stream",
     "text": [
      "<class 'pandas.core.frame.DataFrame'>\n",
      "RangeIndex: 2309 entries, 0 to 2308\n",
      "Data columns (total 8 columns):\n",
      " #   Column     Non-Null Count  Dtype         \n",
      "---  ------     --------------  -----         \n",
      " 0   datetime   2309 non-null   datetime64[ns]\n",
      " 1   <OPEN>     2309 non-null   float64       \n",
      " 2   <HIGH>     2309 non-null   float64       \n",
      " 3   <LOW>      2309 non-null   float64       \n",
      " 4   <CLOSE>    2309 non-null   float64       \n",
      " 5   <TICKVOL>  2309 non-null   int64         \n",
      " 6   <VOL>      2309 non-null   int64         \n",
      " 7   <SPREAD>   2309 non-null   int64         \n",
      "dtypes: datetime64[ns](1), float64(4), int64(3)\n",
      "memory usage: 144.4 KB\n"
     ]
    }
   ],
   "source": [
    "df.info()"
   ]
  },
  {
   "cell_type": "code",
   "execution_count": 24,
   "id": "a518a3b9",
   "metadata": {},
   "outputs": [
    {
     "data": {
      "application/vnd.microsoft.datawrangler.viewer.v0+json": {
       "columns": [
        {
         "name": "index",
         "rawType": "object",
         "type": "string"
        },
        {
         "name": "datetime",
         "rawType": "object",
         "type": "unknown"
        },
        {
         "name": "<OPEN>",
         "rawType": "float64",
         "type": "float"
        },
        {
         "name": "<HIGH>",
         "rawType": "float64",
         "type": "float"
        },
        {
         "name": "<LOW>",
         "rawType": "float64",
         "type": "float"
        },
        {
         "name": "<CLOSE>",
         "rawType": "float64",
         "type": "float"
        },
        {
         "name": "<TICKVOL>",
         "rawType": "float64",
         "type": "float"
        },
        {
         "name": "<VOL>",
         "rawType": "float64",
         "type": "float"
        },
        {
         "name": "<SPREAD>",
         "rawType": "float64",
         "type": "float"
        }
       ],
       "ref": "948a0890-047b-4dd8-8550-db0b150b1e01",
       "rows": [
        [
         "count",
         "2309",
         "2309.0",
         "2309.0",
         "2309.0",
         "2309.0",
         "2309.0",
         "2309.0",
         "2309.0"
        ],
        [
         "mean",
         "2024-09-27 14:58:28.012126464",
         "1.0852009917713294",
         "1.086630337808575",
         "1.0838593417063664",
         "1.0852711000433088",
         "12358.690342139455",
         "0.0",
         "2.029016890428757"
        ],
        [
         "min",
         "2024-01-02 00:00:00",
         "1.01932",
         "1.02194",
         "1.01775",
         "1.01933",
         "213.0",
         "0.0",
         "2.0"
        ],
        [
         "25%",
         "2024-05-15 04:00:00",
         "1.07066",
         "1.07185",
         "1.06947",
         "1.07066",
         "6727.0",
         "0.0",
         "2.0"
        ],
        [
         "50%",
         "2024-09-26 08:00:00",
         "1.08416",
         "1.08535",
         "1.08301",
         "1.08417",
         "10508.0",
         "0.0",
         "2.0"
        ],
        [
         "75%",
         "2025-02-11 12:00:00",
         "1.09779",
         "1.09918",
         "1.09645",
         "1.09784",
         "15625.0",
         "0.0",
         "2.0"
        ],
        [
         "max",
         "2025-06-25 16:00:00",
         "1.16251",
         "1.16414",
         "1.16109",
         "1.16251",
         "64168.0",
         "0.0",
         "3.0"
        ],
        [
         "std",
         null,
         "0.0295084467273705",
         "0.029656201327584022",
         "0.029443219470534014",
         "0.02955754852902858",
         "7675.508440234793",
         "0.0",
         "0.16789019625582527"
        ]
       ],
       "shape": {
        "columns": 8,
        "rows": 8
       }
      },
      "text/html": [
       "<div>\n",
       "<style scoped>\n",
       "    .dataframe tbody tr th:only-of-type {\n",
       "        vertical-align: middle;\n",
       "    }\n",
       "\n",
       "    .dataframe tbody tr th {\n",
       "        vertical-align: top;\n",
       "    }\n",
       "\n",
       "    .dataframe thead th {\n",
       "        text-align: right;\n",
       "    }\n",
       "</style>\n",
       "<table border=\"1\" class=\"dataframe\">\n",
       "  <thead>\n",
       "    <tr style=\"text-align: right;\">\n",
       "      <th></th>\n",
       "      <th>datetime</th>\n",
       "      <th>&lt;OPEN&gt;</th>\n",
       "      <th>&lt;HIGH&gt;</th>\n",
       "      <th>&lt;LOW&gt;</th>\n",
       "      <th>&lt;CLOSE&gt;</th>\n",
       "      <th>&lt;TICKVOL&gt;</th>\n",
       "      <th>&lt;VOL&gt;</th>\n",
       "      <th>&lt;SPREAD&gt;</th>\n",
       "    </tr>\n",
       "  </thead>\n",
       "  <tbody>\n",
       "    <tr>\n",
       "      <th>count</th>\n",
       "      <td>2309</td>\n",
       "      <td>2309.000000</td>\n",
       "      <td>2309.000000</td>\n",
       "      <td>2309.000000</td>\n",
       "      <td>2309.000000</td>\n",
       "      <td>2309.000000</td>\n",
       "      <td>2309.0</td>\n",
       "      <td>2309.000000</td>\n",
       "    </tr>\n",
       "    <tr>\n",
       "      <th>mean</th>\n",
       "      <td>2024-09-27 14:58:28.012126464</td>\n",
       "      <td>1.085201</td>\n",
       "      <td>1.086630</td>\n",
       "      <td>1.083859</td>\n",
       "      <td>1.085271</td>\n",
       "      <td>12358.690342</td>\n",
       "      <td>0.0</td>\n",
       "      <td>2.029017</td>\n",
       "    </tr>\n",
       "    <tr>\n",
       "      <th>min</th>\n",
       "      <td>2024-01-02 00:00:00</td>\n",
       "      <td>1.019320</td>\n",
       "      <td>1.021940</td>\n",
       "      <td>1.017750</td>\n",
       "      <td>1.019330</td>\n",
       "      <td>213.000000</td>\n",
       "      <td>0.0</td>\n",
       "      <td>2.000000</td>\n",
       "    </tr>\n",
       "    <tr>\n",
       "      <th>25%</th>\n",
       "      <td>2024-05-15 04:00:00</td>\n",
       "      <td>1.070660</td>\n",
       "      <td>1.071850</td>\n",
       "      <td>1.069470</td>\n",
       "      <td>1.070660</td>\n",
       "      <td>6727.000000</td>\n",
       "      <td>0.0</td>\n",
       "      <td>2.000000</td>\n",
       "    </tr>\n",
       "    <tr>\n",
       "      <th>50%</th>\n",
       "      <td>2024-09-26 08:00:00</td>\n",
       "      <td>1.084160</td>\n",
       "      <td>1.085350</td>\n",
       "      <td>1.083010</td>\n",
       "      <td>1.084170</td>\n",
       "      <td>10508.000000</td>\n",
       "      <td>0.0</td>\n",
       "      <td>2.000000</td>\n",
       "    </tr>\n",
       "    <tr>\n",
       "      <th>75%</th>\n",
       "      <td>2025-02-11 12:00:00</td>\n",
       "      <td>1.097790</td>\n",
       "      <td>1.099180</td>\n",
       "      <td>1.096450</td>\n",
       "      <td>1.097840</td>\n",
       "      <td>15625.000000</td>\n",
       "      <td>0.0</td>\n",
       "      <td>2.000000</td>\n",
       "    </tr>\n",
       "    <tr>\n",
       "      <th>max</th>\n",
       "      <td>2025-06-25 16:00:00</td>\n",
       "      <td>1.162510</td>\n",
       "      <td>1.164140</td>\n",
       "      <td>1.161090</td>\n",
       "      <td>1.162510</td>\n",
       "      <td>64168.000000</td>\n",
       "      <td>0.0</td>\n",
       "      <td>3.000000</td>\n",
       "    </tr>\n",
       "    <tr>\n",
       "      <th>std</th>\n",
       "      <td>NaN</td>\n",
       "      <td>0.029508</td>\n",
       "      <td>0.029656</td>\n",
       "      <td>0.029443</td>\n",
       "      <td>0.029558</td>\n",
       "      <td>7675.508440</td>\n",
       "      <td>0.0</td>\n",
       "      <td>0.167890</td>\n",
       "    </tr>\n",
       "  </tbody>\n",
       "</table>\n",
       "</div>"
      ],
      "text/plain": [
       "                            datetime       <OPEN>       <HIGH>        <LOW>  \\\n",
       "count                           2309  2309.000000  2309.000000  2309.000000   \n",
       "mean   2024-09-27 14:58:28.012126464     1.085201     1.086630     1.083859   \n",
       "min              2024-01-02 00:00:00     1.019320     1.021940     1.017750   \n",
       "25%              2024-05-15 04:00:00     1.070660     1.071850     1.069470   \n",
       "50%              2024-09-26 08:00:00     1.084160     1.085350     1.083010   \n",
       "75%              2025-02-11 12:00:00     1.097790     1.099180     1.096450   \n",
       "max              2025-06-25 16:00:00     1.162510     1.164140     1.161090   \n",
       "std                              NaN     0.029508     0.029656     0.029443   \n",
       "\n",
       "           <CLOSE>     <TICKVOL>   <VOL>     <SPREAD>  \n",
       "count  2309.000000   2309.000000  2309.0  2309.000000  \n",
       "mean      1.085271  12358.690342     0.0     2.029017  \n",
       "min       1.019330    213.000000     0.0     2.000000  \n",
       "25%       1.070660   6727.000000     0.0     2.000000  \n",
       "50%       1.084170  10508.000000     0.0     2.000000  \n",
       "75%       1.097840  15625.000000     0.0     2.000000  \n",
       "max       1.162510  64168.000000     0.0     3.000000  \n",
       "std       0.029558   7675.508440     0.0     0.167890  "
      ]
     },
     "execution_count": 24,
     "metadata": {},
     "output_type": "execute_result"
    }
   ],
   "source": [
    "df.describe()"
   ]
  },
  {
   "cell_type": "code",
   "execution_count": 25,
   "id": "246f7d57",
   "metadata": {},
   "outputs": [],
   "source": [
    "df.drop(columns=[\"<SPREAD>\", \"<VOL>\"] , inplace=True)"
   ]
  },
  {
   "cell_type": "code",
   "execution_count": 26,
   "id": "64508cf8",
   "metadata": {},
   "outputs": [
    {
     "name": "stdout",
     "output_type": "stream",
     "text": [
      "<class 'pandas.core.frame.DataFrame'>\n",
      "RangeIndex: 2309 entries, 0 to 2308\n",
      "Data columns (total 6 columns):\n",
      " #   Column     Non-Null Count  Dtype         \n",
      "---  ------     --------------  -----         \n",
      " 0   datetime   2309 non-null   datetime64[ns]\n",
      " 1   <OPEN>     2309 non-null   float64       \n",
      " 2   <HIGH>     2309 non-null   float64       \n",
      " 3   <LOW>      2309 non-null   float64       \n",
      " 4   <CLOSE>    2309 non-null   float64       \n",
      " 5   <TICKVOL>  2309 non-null   int64         \n",
      "dtypes: datetime64[ns](1), float64(4), int64(1)\n",
      "memory usage: 108.4 KB\n"
     ]
    }
   ],
   "source": [
    "df.info()"
   ]
  },
  {
   "cell_type": "code",
   "execution_count": 27,
   "id": "c33d932a",
   "metadata": {},
   "outputs": [
    {
     "data": {
      "application/vnd.microsoft.datawrangler.viewer.v0+json": {
       "columns": [
        {
         "name": "index",
         "rawType": "int64",
         "type": "integer"
        },
        {
         "name": "datetime",
         "rawType": "datetime64[ns]",
         "type": "datetime"
        },
        {
         "name": "<OPEN>",
         "rawType": "float64",
         "type": "float"
        },
        {
         "name": "<HIGH>",
         "rawType": "float64",
         "type": "float"
        },
        {
         "name": "<LOW>",
         "rawType": "float64",
         "type": "float"
        },
        {
         "name": "<CLOSE>",
         "rawType": "float64",
         "type": "float"
        },
        {
         "name": "<TICKVOL>",
         "rawType": "int64",
         "type": "integer"
        }
       ],
       "ref": "6b3cdd23-7fa5-46f9-8274-e8cd4d432d8e",
       "rows": [
        [
         "0",
         "2024-01-02 00:00:00",
         "1.10424",
         "1.10443",
         "1.10341",
         "1.10349",
         "4438"
        ],
        [
         "1",
         "2024-01-02 04:00:00",
         "1.1035",
         "1.1036",
         "1.10165",
         "1.10334",
         "5889"
        ],
        [
         "2",
         "2024-01-02 08:00:00",
         "1.10336",
         "1.10388",
         "1.10106",
         "1.10152",
         "13826"
        ],
        [
         "3",
         "2024-01-02 12:00:00",
         "1.10151",
         "1.10171",
         "1.09494",
         "1.09527",
         "18275"
        ],
        [
         "4",
         "2024-01-02 16:00:00",
         "1.09527",
         "1.09683",
         "1.09408",
         "1.09506",
         "22154"
        ],
        [
         "5",
         "2024-01-02 20:00:00",
         "1.09505",
         "1.09559",
         "1.09383",
         "1.09413",
         "8609"
        ],
        [
         "6",
         "2024-01-03 00:00:00",
         "1.09423",
         "1.09548",
         "1.09381",
         "1.09513",
         "4275"
        ],
        [
         "7",
         "2024-01-03 04:00:00",
         "1.09513",
         "1.09627",
         "1.09486",
         "1.09513",
         "4959"
        ],
        [
         "8",
         "2024-01-03 08:00:00",
         "1.09512",
         "1.09654",
         "1.09347",
         "1.09364",
         "13729"
        ],
        [
         "9",
         "2024-01-03 12:00:00",
         "1.09362",
         "1.0939",
         "1.091",
         "1.09216",
         "17309"
        ],
        [
         "10",
         "2024-01-03 16:00:00",
         "1.09217",
         "1.09387",
         "1.0898",
         "1.09066",
         "25836"
        ],
        [
         "11",
         "2024-01-03 20:00:00",
         "1.09065",
         "1.09256",
         "1.08929",
         "1.09196",
         "17269"
        ],
        [
         "12",
         "2024-01-04 00:00:00",
         "1.09163",
         "1.09274",
         "1.0914",
         "1.09178",
         "4820"
        ],
        [
         "13",
         "2024-01-04 04:00:00",
         "1.09178",
         "1.09306",
         "1.09158",
         "1.09266",
         "5978"
        ],
        [
         "14",
         "2024-01-04 08:00:00",
         "1.09265",
         "1.09691",
         "1.09208",
         "1.09674",
         "16898"
        ],
        [
         "15",
         "2024-01-04 12:00:00",
         "1.09674",
         "1.09721",
         "1.09328",
         "1.09472",
         "16600"
        ],
        [
         "16",
         "2024-01-04 16:00:00",
         "1.09471",
         "1.09653",
         "1.09381",
         "1.09505",
         "21768"
        ],
        [
         "17",
         "2024-01-04 20:00:00",
         "1.09504",
         "1.09544",
         "1.0943",
         "1.09478",
         "8021"
        ],
        [
         "18",
         "2024-01-05 00:00:00",
         "1.09442",
         "1.09559",
         "1.0942",
         "1.09514",
         "5888"
        ],
        [
         "19",
         "2024-01-05 04:00:00",
         "1.09515",
         "1.09542",
         "1.0934",
         "1.09374",
         "5708"
        ]
       ],
       "shape": {
        "columns": 6,
        "rows": 20
       }
      },
      "text/html": [
       "<div>\n",
       "<style scoped>\n",
       "    .dataframe tbody tr th:only-of-type {\n",
       "        vertical-align: middle;\n",
       "    }\n",
       "\n",
       "    .dataframe tbody tr th {\n",
       "        vertical-align: top;\n",
       "    }\n",
       "\n",
       "    .dataframe thead th {\n",
       "        text-align: right;\n",
       "    }\n",
       "</style>\n",
       "<table border=\"1\" class=\"dataframe\">\n",
       "  <thead>\n",
       "    <tr style=\"text-align: right;\">\n",
       "      <th></th>\n",
       "      <th>datetime</th>\n",
       "      <th>&lt;OPEN&gt;</th>\n",
       "      <th>&lt;HIGH&gt;</th>\n",
       "      <th>&lt;LOW&gt;</th>\n",
       "      <th>&lt;CLOSE&gt;</th>\n",
       "      <th>&lt;TICKVOL&gt;</th>\n",
       "    </tr>\n",
       "  </thead>\n",
       "  <tbody>\n",
       "    <tr>\n",
       "      <th>0</th>\n",
       "      <td>2024-01-02 00:00:00</td>\n",
       "      <td>1.10424</td>\n",
       "      <td>1.10443</td>\n",
       "      <td>1.10341</td>\n",
       "      <td>1.10349</td>\n",
       "      <td>4438</td>\n",
       "    </tr>\n",
       "    <tr>\n",
       "      <th>1</th>\n",
       "      <td>2024-01-02 04:00:00</td>\n",
       "      <td>1.10350</td>\n",
       "      <td>1.10360</td>\n",
       "      <td>1.10165</td>\n",
       "      <td>1.10334</td>\n",
       "      <td>5889</td>\n",
       "    </tr>\n",
       "    <tr>\n",
       "      <th>2</th>\n",
       "      <td>2024-01-02 08:00:00</td>\n",
       "      <td>1.10336</td>\n",
       "      <td>1.10388</td>\n",
       "      <td>1.10106</td>\n",
       "      <td>1.10152</td>\n",
       "      <td>13826</td>\n",
       "    </tr>\n",
       "    <tr>\n",
       "      <th>3</th>\n",
       "      <td>2024-01-02 12:00:00</td>\n",
       "      <td>1.10151</td>\n",
       "      <td>1.10171</td>\n",
       "      <td>1.09494</td>\n",
       "      <td>1.09527</td>\n",
       "      <td>18275</td>\n",
       "    </tr>\n",
       "    <tr>\n",
       "      <th>4</th>\n",
       "      <td>2024-01-02 16:00:00</td>\n",
       "      <td>1.09527</td>\n",
       "      <td>1.09683</td>\n",
       "      <td>1.09408</td>\n",
       "      <td>1.09506</td>\n",
       "      <td>22154</td>\n",
       "    </tr>\n",
       "    <tr>\n",
       "      <th>5</th>\n",
       "      <td>2024-01-02 20:00:00</td>\n",
       "      <td>1.09505</td>\n",
       "      <td>1.09559</td>\n",
       "      <td>1.09383</td>\n",
       "      <td>1.09413</td>\n",
       "      <td>8609</td>\n",
       "    </tr>\n",
       "    <tr>\n",
       "      <th>6</th>\n",
       "      <td>2024-01-03 00:00:00</td>\n",
       "      <td>1.09423</td>\n",
       "      <td>1.09548</td>\n",
       "      <td>1.09381</td>\n",
       "      <td>1.09513</td>\n",
       "      <td>4275</td>\n",
       "    </tr>\n",
       "    <tr>\n",
       "      <th>7</th>\n",
       "      <td>2024-01-03 04:00:00</td>\n",
       "      <td>1.09513</td>\n",
       "      <td>1.09627</td>\n",
       "      <td>1.09486</td>\n",
       "      <td>1.09513</td>\n",
       "      <td>4959</td>\n",
       "    </tr>\n",
       "    <tr>\n",
       "      <th>8</th>\n",
       "      <td>2024-01-03 08:00:00</td>\n",
       "      <td>1.09512</td>\n",
       "      <td>1.09654</td>\n",
       "      <td>1.09347</td>\n",
       "      <td>1.09364</td>\n",
       "      <td>13729</td>\n",
       "    </tr>\n",
       "    <tr>\n",
       "      <th>9</th>\n",
       "      <td>2024-01-03 12:00:00</td>\n",
       "      <td>1.09362</td>\n",
       "      <td>1.09390</td>\n",
       "      <td>1.09100</td>\n",
       "      <td>1.09216</td>\n",
       "      <td>17309</td>\n",
       "    </tr>\n",
       "    <tr>\n",
       "      <th>10</th>\n",
       "      <td>2024-01-03 16:00:00</td>\n",
       "      <td>1.09217</td>\n",
       "      <td>1.09387</td>\n",
       "      <td>1.08980</td>\n",
       "      <td>1.09066</td>\n",
       "      <td>25836</td>\n",
       "    </tr>\n",
       "    <tr>\n",
       "      <th>11</th>\n",
       "      <td>2024-01-03 20:00:00</td>\n",
       "      <td>1.09065</td>\n",
       "      <td>1.09256</td>\n",
       "      <td>1.08929</td>\n",
       "      <td>1.09196</td>\n",
       "      <td>17269</td>\n",
       "    </tr>\n",
       "    <tr>\n",
       "      <th>12</th>\n",
       "      <td>2024-01-04 00:00:00</td>\n",
       "      <td>1.09163</td>\n",
       "      <td>1.09274</td>\n",
       "      <td>1.09140</td>\n",
       "      <td>1.09178</td>\n",
       "      <td>4820</td>\n",
       "    </tr>\n",
       "    <tr>\n",
       "      <th>13</th>\n",
       "      <td>2024-01-04 04:00:00</td>\n",
       "      <td>1.09178</td>\n",
       "      <td>1.09306</td>\n",
       "      <td>1.09158</td>\n",
       "      <td>1.09266</td>\n",
       "      <td>5978</td>\n",
       "    </tr>\n",
       "    <tr>\n",
       "      <th>14</th>\n",
       "      <td>2024-01-04 08:00:00</td>\n",
       "      <td>1.09265</td>\n",
       "      <td>1.09691</td>\n",
       "      <td>1.09208</td>\n",
       "      <td>1.09674</td>\n",
       "      <td>16898</td>\n",
       "    </tr>\n",
       "    <tr>\n",
       "      <th>15</th>\n",
       "      <td>2024-01-04 12:00:00</td>\n",
       "      <td>1.09674</td>\n",
       "      <td>1.09721</td>\n",
       "      <td>1.09328</td>\n",
       "      <td>1.09472</td>\n",
       "      <td>16600</td>\n",
       "    </tr>\n",
       "    <tr>\n",
       "      <th>16</th>\n",
       "      <td>2024-01-04 16:00:00</td>\n",
       "      <td>1.09471</td>\n",
       "      <td>1.09653</td>\n",
       "      <td>1.09381</td>\n",
       "      <td>1.09505</td>\n",
       "      <td>21768</td>\n",
       "    </tr>\n",
       "    <tr>\n",
       "      <th>17</th>\n",
       "      <td>2024-01-04 20:00:00</td>\n",
       "      <td>1.09504</td>\n",
       "      <td>1.09544</td>\n",
       "      <td>1.09430</td>\n",
       "      <td>1.09478</td>\n",
       "      <td>8021</td>\n",
       "    </tr>\n",
       "    <tr>\n",
       "      <th>18</th>\n",
       "      <td>2024-01-05 00:00:00</td>\n",
       "      <td>1.09442</td>\n",
       "      <td>1.09559</td>\n",
       "      <td>1.09420</td>\n",
       "      <td>1.09514</td>\n",
       "      <td>5888</td>\n",
       "    </tr>\n",
       "    <tr>\n",
       "      <th>19</th>\n",
       "      <td>2024-01-05 04:00:00</td>\n",
       "      <td>1.09515</td>\n",
       "      <td>1.09542</td>\n",
       "      <td>1.09340</td>\n",
       "      <td>1.09374</td>\n",
       "      <td>5708</td>\n",
       "    </tr>\n",
       "  </tbody>\n",
       "</table>\n",
       "</div>"
      ],
      "text/plain": [
       "              datetime   <OPEN>   <HIGH>    <LOW>  <CLOSE>  <TICKVOL>\n",
       "0  2024-01-02 00:00:00  1.10424  1.10443  1.10341  1.10349       4438\n",
       "1  2024-01-02 04:00:00  1.10350  1.10360  1.10165  1.10334       5889\n",
       "2  2024-01-02 08:00:00  1.10336  1.10388  1.10106  1.10152      13826\n",
       "3  2024-01-02 12:00:00  1.10151  1.10171  1.09494  1.09527      18275\n",
       "4  2024-01-02 16:00:00  1.09527  1.09683  1.09408  1.09506      22154\n",
       "5  2024-01-02 20:00:00  1.09505  1.09559  1.09383  1.09413       8609\n",
       "6  2024-01-03 00:00:00  1.09423  1.09548  1.09381  1.09513       4275\n",
       "7  2024-01-03 04:00:00  1.09513  1.09627  1.09486  1.09513       4959\n",
       "8  2024-01-03 08:00:00  1.09512  1.09654  1.09347  1.09364      13729\n",
       "9  2024-01-03 12:00:00  1.09362  1.09390  1.09100  1.09216      17309\n",
       "10 2024-01-03 16:00:00  1.09217  1.09387  1.08980  1.09066      25836\n",
       "11 2024-01-03 20:00:00  1.09065  1.09256  1.08929  1.09196      17269\n",
       "12 2024-01-04 00:00:00  1.09163  1.09274  1.09140  1.09178       4820\n",
       "13 2024-01-04 04:00:00  1.09178  1.09306  1.09158  1.09266       5978\n",
       "14 2024-01-04 08:00:00  1.09265  1.09691  1.09208  1.09674      16898\n",
       "15 2024-01-04 12:00:00  1.09674  1.09721  1.09328  1.09472      16600\n",
       "16 2024-01-04 16:00:00  1.09471  1.09653  1.09381  1.09505      21768\n",
       "17 2024-01-04 20:00:00  1.09504  1.09544  1.09430  1.09478       8021\n",
       "18 2024-01-05 00:00:00  1.09442  1.09559  1.09420  1.09514       5888\n",
       "19 2024-01-05 04:00:00  1.09515  1.09542  1.09340  1.09374       5708"
      ]
     },
     "execution_count": 27,
     "metadata": {},
     "output_type": "execute_result"
    }
   ],
   "source": [
    "df.head(20)"
   ]
  },
  {
   "cell_type": "code",
   "execution_count": 28,
   "id": "7afc3c4d",
   "metadata": {},
   "outputs": [],
   "source": [
    "df.to_csv(\"../data/EURUSD_H4_clean.csv\", index=False)"
   ]
  }
 ],
 "metadata": {
  "kernelspec": {
   "display_name": "Python (dpenv)",
   "language": "python",
   "name": "dpenv"
  },
  "language_info": {
   "codemirror_mode": {
    "name": "ipython",
    "version": 3
   },
   "file_extension": ".py",
   "mimetype": "text/x-python",
   "name": "python",
   "nbconvert_exporter": "python",
   "pygments_lexer": "ipython3",
   "version": "3.10.13"
  }
 },
 "nbformat": 4,
 "nbformat_minor": 5
}
