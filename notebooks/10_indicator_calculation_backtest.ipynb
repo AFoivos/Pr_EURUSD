{
 "cells": [
  {
   "cell_type": "code",
   "execution_count": 8,
   "id": "04d8f968",
   "metadata": {},
   "outputs": [],
   "source": [
    "import pandas as pd\n",
    "import numpy as np\n",
    "import ta\n",
    "\n",
    "df = pd.read_csv(\"../data/EURUSD_H4_clean.csv\")\n",
    "\n",
    "df[\"<CLOSE>\"] = df[\"<CLOSE>\"].astype(float)\n",
    "df[\"<HIGH>\"] = df[\"<HIGH>\"].astype(float)\n",
    "df[\"<LOW>\"] = df[\"<LOW>\"].astype(float)\n",
    "\n",
    "# EMA\n",
    "ema_50 = ta.trend.EMAIndicator(close=df[\"<CLOSE>\"], window=50)\n",
    "df[\"ema_50\"] = ema_50.ema_indicator()\n",
    "ema_100 = ta.trend.EMAIndicator(close=df[\"<CLOSE>\"], window=100)\n",
    "df[\"ema_100\"] = ema_100.ema_indicator()\n",
    "ema_200 = ta.trend.EMAIndicator(close=df[\"<CLOSE>\"], window=200)\n",
    "df[\"ema_200\"] = ema_200.ema_indicator()\n",
    "\n",
    "# RSI\n",
    "rsi = ta.momentum.RSIIndicator(close=df[\"<CLOSE>\"])\n",
    "df[\"rsi\"] = rsi.rsi()\n",
    "\n",
    "# MACD\n",
    "macd = ta.trend.MACD(close=df[\"<CLOSE>\"])\n",
    "df[\"macd\"] = macd.macd()\n",
    "df[\"macd_signal\"] = macd.macd_signal()\n",
    "df[\"macd_diff\"] = macd.macd_diff()\n",
    "\n",
    "# Bollinger Bands\n",
    "bb = ta.volatility.BollingerBands(close=df[\"<CLOSE>\"], window=20, window_dev=2)\n",
    "df[\"bb_upper\"] = bb.bollinger_hband()\n",
    "df[\"bb_lower\"] = bb.bollinger_lband()\n",
    "df[\"bb_mid\"] = bb.bollinger_mavg()\n",
    "df[\"bb_bandwidth\"] = bb.bollinger_wband()\n",
    "\n",
    "# Stochastic\n",
    "stoch = ta.momentum.StochasticOscillator(high=df[\"<HIGH>\"], low=df[\"<LOW>\"], close=df[\"<CLOSE>\"])\n",
    "df[\"stoch_k\"] = stoch.stoch()\n",
    "df[\"stoch_d\"] = stoch.stoch_signal()\n",
    "\n",
    "# ATR\n",
    "atr = ta.volatility.AverageTrueRange(high=df[\"<HIGH>\"], low=df[\"<LOW>\"], close=df[\"<CLOSE>\"])\n",
    "df[\"atr\"] = atr.average_true_range()\n",
    "\n",
    "# Αποθήκευση\n",
    "df.to_csv(\"../data/EURUSD_H4_with_indicators.csv\", index=False)"
   ]
  }
 ],
 "metadata": {
  "kernelspec": {
   "display_name": "dpenv",
   "language": "python",
   "name": "python3"
  },
  "language_info": {
   "codemirror_mode": {
    "name": "ipython",
    "version": 3
   },
   "file_extension": ".py",
   "mimetype": "text/x-python",
   "name": "python",
   "nbconvert_exporter": "python",
   "pygments_lexer": "ipython3",
   "version": "3.10.13"
  }
 },
 "nbformat": 4,
 "nbformat_minor": 5
}
